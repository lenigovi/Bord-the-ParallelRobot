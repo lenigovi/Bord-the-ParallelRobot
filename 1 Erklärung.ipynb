{
 "cells": [
  {
   "cell_type": "markdown",
   "metadata": {},
   "source": [
    "\n",
    "<p style=\"margin-top: 100px;\"></p>\n",
    "\n",
    "\n",
    "\n",
    "\n",
    "\n",
    " Hiermit erkläre ich, dass ich die vorliegende Arbeit ohne fremde Hilfe selbstständig\n",
    "verfasst und nur die angegebenen Quellen und Hilfsmittel benutzt habe. Ich versichere\n",
    "weiterhin, dass ich diese Arbeit noch keinem anderen Prüfungsgremium vorgelegt habe.\n",
    "\n",
    "Aachen, im February 2024\n",
    "\n",
    "_\n",
    "\n",
    "**Elena Valerija Herzegovina**\n"
   ]
  },
  {
   "cell_type": "markdown",
   "metadata": {},
   "source": [
    "<div style=\"page-break-before: always;\"></div>\n"
   ]
  }
 ],
 "metadata": {
  "language_info": {
   "name": "python"
  }
 },
 "nbformat": 4,
 "nbformat_minor": 2
}
