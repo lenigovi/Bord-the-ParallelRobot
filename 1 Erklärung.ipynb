{
 "cells": [
  {
   "cell_type": "markdown",
   "metadata": {},
   "source": [
    "<div style=\"display: none;\">\n",
    "```python\n",
    "%%html\n",
    "<style>\n",
    "    @page { size: A4; margin: 1cm }\n",
    "    @media print {\n",
    "        body, .output_wrapper, .output {\n",
    "            width: 21cm;\n",
    "            height: 29.7cm;\n",
    "        }\n",
    "    }\n",
    "</style>\n"
   ]
  },
  {
   "cell_type": "markdown",
   "metadata": {},
   "source": [
    "\n",
    "<p style=\"margin-top: 100px;\"></p>\n",
    "<div style=\"padding-left: 40px; padding-right: 70px;\">\n",
    "\n",
    "\n",
    "\n",
    "\n",
    "\n",
    " Hiermit erkläre ich, dass ich die vorliegende Arbeit ohne fremde Hilfe selbstständig\n",
    "verfasst und nur die angegebenen Quellen und Hilfsmittel benutzt habe. Ich versichere\n",
    "weiterhin, dass ich diese Arbeit noch keinem anderen Prüfungsgremium vorgelegt habe.\n",
    "\n",
    "Aachen, im February 2024\n",
    "\n",
    "_\n",
    "\n",
    "**Elena Valerija Herzegovina**\n"
   ]
  },
  {
   "cell_type": "markdown",
   "metadata": {},
   "source": [
    "<div style=\"page-break-before: always;\"></div>\n"
   ]
  }
 ],
 "metadata": {
  "kernelspec": {
   "display_name": "Python 3",
   "language": "python",
   "name": "python3"
  },
  "language_info": {
   "codemirror_mode": {
    "name": "ipython",
    "version": 3
   },
   "file_extension": ".py",
   "mimetype": "text/x-python",
   "name": "python",
   "nbconvert_exporter": "python",
   "pygments_lexer": "ipython3",
   "version": "3.8.10"
  }
 },
 "nbformat": 4,
 "nbformat_minor": 2
}
