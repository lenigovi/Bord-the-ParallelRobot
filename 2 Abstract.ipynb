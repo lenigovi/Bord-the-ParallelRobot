{
 "cells": [
  {
   "cell_type": "markdown",
   "metadata": {},
   "source": [
    "<link rel=\"stylesheet\" type=\"text/css\" href=\"style.css\">\n",
    "\n"
   ]
  },
  {
   "cell_type": "markdown",
   "metadata": {},
   "source": [
    "# Abstract\n",
    "---\n",
    "\n",
    "[R(RR-RRR)SR] kinematically redundant 6+3 degree of freedom spatial hybrid parallel robot with revolute actuators is proposed. The kinematic model is developed based on the constraint conditions of the robot. It is shown that the type II (parallel) singularities can be completely avoided, thereby greatly extending the orientational workspace. Mechanisms are then introduced to use the redundant degrees of freedom of the robot to operate a gripper with the robot actuators, which are mounted on or close to the base. A CAD model of the robot is shown and a computer animation is provided to demonstrate the resulting architecture, which has full 6-dof capabilities and a large orientational workspace."
   ]
  }
 ],
 "metadata": {
  "kernelspec": {
   "display_name": "Python 3",
   "language": "python",
   "name": "python3"
  },
  "language_info": {
   "codemirror_mode": {
    "name": "ipython",
    "version": 3
   },
   "file_extension": ".py",
   "mimetype": "text/x-python",
   "name": "python",
   "nbconvert_exporter": "python",
   "pygments_lexer": "ipython3",
   "version": "3.8.10"
  }
 },
 "nbformat": 4,
 "nbformat_minor": 2
}
