{
 "cells": [
  {
   "cell_type": "markdown",
   "metadata": {},
   "source": [
    "<link rel=\"stylesheet\" type=\"text/css\" href=\"style.css\">\n",
    "\n"
   ]
  },
  {
   "cell_type": "code",
   "execution_count": 3,
   "metadata": {},
   "outputs": [
    {
     "data": {
      "text/html": [
       "<style>/* div {\n",
       "    max-width: 900px !important;\n",
       "    text-align: justify;\n",
       "} */\n",
       "\n",
       "\n",
       "/* .inner_cell {\n",
       "    max-width: 900px !important;\n",
       "    text-align: justify;\n",
       "} */\n",
       "\n",
       ".cell {\n",
       "    /* max-width: 900px !important; */\n",
       "    /* line-height: 1.6em; */\n",
       "    padding-bottom: 15px;\n",
       "    text-align: justify;\n",
       "}\n",
       "\n",
       ".markup {\n",
       "    max-width: 900px !important;\n",
       "    text-align: justify;\n",
       "}\n",
       "\n",
       "img {\n",
       "    display: block;\n",
       "    margin-left: auto;\n",
       "    margin-right: auto;\n",
       "}\n",
       "\n",
       "/* Î±t */\n",
       "/* Î²t */\n",
       "/* Î³t */</style>"
      ],
      "text/plain": [
       "<IPython.core.display.HTML object>"
      ]
     },
     "execution_count": 3,
     "metadata": {},
     "output_type": "execute_result"
    }
   ],
   "source": [
    "from IPython.core.display import HTML\n",
    "import pathlib\n",
    "\n",
    "styles_path = pathlib.Path(pathlib.Path().absolute(), \"style.css\")\n",
    "styles = open(styles_path, \"r\").read()\n",
    "HTML(f\"<style>{styles}</style>\")\n"
   ]
  },
  {
   "cell_type": "markdown",
   "metadata": {},
   "source": [
    "# Abstract\n",
    "---\n",
    "\n",
    "[R(RR-RRR)SR] kinematically redundant 6+3 degree of freedom spatial hybrid parallel robot with revolute actuators is proposed. The kinematic model is developed based on the constraint conditions of the robot. It is shown that the type II (parallel) singularities can be completely avoided, thereby greatly extending the orientational workspace. Mechanisms are then introduced to use the redundant degrees of freedom of the robot to operate a gripper with the robot actuators, which are mounted on or close to the base. A CAD model of the robot is shown and a computer animation is provided to demonstrate the resulting architecture, which has full 6-dof capabilities and a large orientational workspace."
   ]
  }
 ],
 "metadata": {
  "kernelspec": {
   "display_name": "Python 3",
   "language": "python",
   "name": "python3"
  },
  "language_info": {
   "codemirror_mode": {
    "name": "ipython",
    "version": 3
   },
   "file_extension": ".py",
   "mimetype": "text/x-python",
   "name": "python",
   "nbconvert_exporter": "python",
   "pygments_lexer": "ipython3",
   "version": "3.8.10"
  }
 },
 "nbformat": 4,
 "nbformat_minor": 2
}
