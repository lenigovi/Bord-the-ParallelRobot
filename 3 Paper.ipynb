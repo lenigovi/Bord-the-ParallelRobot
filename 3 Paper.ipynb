{
 "cells": [
  {
   "cell_type": "markdown",
   "metadata": {},
   "source": [
    "# Robot Architecture\n",
    "---"
   ]
  },
  {
   "cell_type": "markdown",
   "metadata": {},
   "source": [
    "The mechanism is driven by nine motors: three per leg. In each leg, one of the three motors is attached to the fixed base while the other two form a planar parallel mechanism mounted on the output link of the first actuator. Using this arrangement, it is shown that type II singularities can be completely avoided."
   ]
  },
  {
   "cell_type": "markdown",
   "metadata": {},
   "source": [
    "## Kinematic Modeling"
   ]
  },
  {
   "cell_type": "markdown",
   "metadata": {},
   "source": [
    "A base frame and a moving frame are respectively attached to the centroid of the base and moving platforms, which are noted as $O_{xyz}$ and $O′_{x′y′z′}$ (see Fig. 2)\n",
    "\n",
    "| ![Image 1](Docs/Media/KinematicModel.png) | ![Image 2](Docs/Media/GeometricDescription.png) |\n",
    "|:---:|:---:|\n",
    "| *Figure 1: Architecture of the proposed hybrid parallel robot* | *Figure 2: Geometric description of one leg* |\n",
    "\n",
    "Vector p represents the position of $O′$ with respect to $O$ and matrix $Q$ is the orientation of the moving platform with respect to the base. Vector $r_i$ denotes the position of $S_i$. Vector $n$ is the unit vector along the axis of the revolute joint attached to the platform and $d_i$ is the position vector of the centre of the revolute joint that is attached to the platform, which is expressed in the moving frame. Except for $d_i$, all vectors are expressed in the base frame. The constraint equations of the robot, which are used to derive the kinematics, can be written as follows. Firstly, the constraint on the length of the fourth link is written as:"
   ]
  },
  {
   "cell_type": "markdown",
   "metadata": {},
   "source": [
    "\\begin{equation*}\\left(\\mathbf{p}+\\mathbf{Q} \\mathbf{d}_{i}-\\mathbf{r}_{i}\\right)^{T}\\left(\\mathbf{p}+\\mathbf{Q} \\mathbf{d}_{i}-\\mathbf{r}_{i}\\right)=l_{i 4}^{2}, \\quad i=1,2,3 \\tag{1}\\end{equation*}"
   ]
  },
  {
   "cell_type": "markdown",
   "metadata": {},
   "source": [
    "## Forward Kinematic Analysis of a KRHPR with RRRSR Legs\n",
    "---\n",
    "\n",
    "### Approach One: Newton-Raphson\n",
    "\n",
    "<div style=\"text-align: justify\">\n",
    "\n",
    "Although it is possible to obtain all the possible postures of the platform by utilizing the previous approach, in practical applications, a unique solution is desired. The Newton–Raphson method can be used for this purpose. Because the direction cosines of the $z'$-axis, denoted by $q_z$, are the same as the vector $z_1$ given in Eq. (2), the remaining unknown parameters are the direction cosines of the $x'$- and $y'$-axes, denoted, respectively, by $q_x$ and $q_y$, and the position vector $p$, which contains in total nine variables. Thus, a system of nine constraint equations can be formed to implement the Newton–Raphson method.\n",
    "\n",
    "As it can be observed from Fig. 2, a constraint equation on the squared length of each redundant link can be written as\n",
    "\n",
    "$$(\\mathbf{p} + \\mathbf{Q}\\mathbf{d}_i - \\mathbf{p}_i)^T (\\mathbf{p} + \\mathbf{Q}\\mathbf{d}_i - \\mathbf{p}_i) - l_{i4}^2 = 0, \\quad i = 1, 2, 3 \\tag{1} $$\n",
    "\n",
    "in which $ \\mathbf{Q} = [q_x \\quad q_y \\quad q_z]$. In addition, the vectors $(p_1 − p)$ and $q_z$ are always orthogonal, and therefore $(\\mathbf{p}_1 - \\mathbf{p})^T \\mathbf{q}_z = 0$\n",
    "\n",
    "Finally, the rotation matrix must be orthogonal, namely\n",
    "\n",
    "$$\\mathbf{Q}^T \\mathbf{Q} - \\mathbf{I} = \\mathbf{0} \\tag{2}$$\n",
    "\n",
    "where $ \\mathbf{I}$ is the $3 \\times 3$ identity matrix. Equation (6) provides five constraint equations since $q_z$ is obtained from the outset using Eq. (2).\n",
    "\n",
    "Combining Eqs. (4), (5), and (6) yields a system of nine equations in nine unknowns $\\mathbf{F}(\\mathbf{X}) = \\mathbf{0}$ where $\\mathbf{X} = [ \\mathbf{q}_x^T \\quad \\mathbf{q}_y^T \\quad \\mathbf{p}^T ]^T$ and where most of the equations are nonlinear. The Newton–Raphson method at iteration $k$ can be written as\n",
    "\n",
    "$$\\text{Solve} \\quad \\mathbf{F}'(\\mathbf{X}) (\\mathbf{X}^{(k)} + \\mathbf{\\delta}^{(k)}) = -\\mathbf{F}(\\mathbf{X}^{(k)}) \\quad \\text{for} \\quad \\mathbf{\\delta}^{(k)} \\tag{3} $$\n",
    "\n",
    "$$\\mathbf{X}^{(k+1)} = \\mathbf{X}^{(k)} + \\mathbf{\\delta}^{(k)}, \\quad k = 0, 1, \\ldots \\tag{4}$$\n",
    "\n",
    "where matrix $\\mathbf{F}'(\\mathbf{X})$ is the partial derivative of vector $\\mathbf{F}(\\mathbf{X})$ with respect to vector $\\mathbf{X}$ and is of dimension $9 \\times 9$.\n",
    "\n",
    "The procedure stops when the equations are satisfied within a predetermined accuracy. With a proper initial guess (which is usually available in the continuous tracking of a trajectory), the procedure converges very quickly (typically less than four iterations are required).\n",
    "\n",
    "### Approach Two: Using One Extra Encoder\n",
    "\n",
    "One possible way to avoid the use of a numerical method while limiting the number of possible solutions consists in adding extra encoders to the passive joints to acquire more information. We start the analysis by adding an encoder to joint $R14$ to measure the magnitude of angle $ \\beta_1 $.\n",
    "\n",
    "As shown in Fig. 5, the vectors $v_i, i = 1, 2, 3, 4$ construct a planar 4-bar linkage whose vector loop equation expressed in the intermediate frame $S_1x_1y_1z_1$ can be written as $ \\mathbf{v}_2 + \\mathbf{v}_3 = \\mathbf{v}_1 + \\mathbf{v}_4 $\n",
    "\n",
    "Writing Eq. (10) in matrix form yields\n",
    "\n",
    "$$ \\begin{bmatrix} \\mathbf{v}_2 \\cos(\\alpha_1) \\\\ \\mathbf{v}_2 \\sin(\\alpha_1) \\end{bmatrix} + \\begin{bmatrix} \\mathbf{v}_3 \\cos(\\phi) \\\\ \\mathbf{v}_3 \\sin(\\phi) \\end{bmatrix} = \\begin{bmatrix} \\mathbf{v}_1 \\\\ 0 \\end{bmatrix} + \\begin{bmatrix} \\mathbf{v}_4 \\cos(\\alpha_2) \\\\ \\mathbf{v}_4 \\sin(\\alpha_2) \\end{bmatrix} \\tag{5} $$\n",
    "\n",
    "where $ \\phi = \\alpha_1 - \\gamma $ with $v_i, i = 1, 2, 3, 4$ denotes the norm of the corresponding vector. Equation (11) can be rewritten as\n",
    "\n",
    "$$ \\begin{bmatrix} a \\cos(\\alpha_1) + b \\sin(\\alpha_1) - v_1 \\\\ -b \\cos(\\alpha_1) + a \\sin(\\alpha_1) \\end{bmatrix} = \\begin{bmatrix} \\mathbf{v}_4 \\cos(\\alpha_2) \\\\ \\mathbf{v}_4 \\sin(\\alpha_2) \\end{bmatrix} \\tag{6} $$\n",
    "\n",
    "in which $ a = \\mathbf{v}_2 + \\mathbf{v}_3 \\cos(\\gamma) $ and $ b = \\mathbf{v}_3 \\sin(\\gamma) $. Since $v_2 = v_4$, Eq. (12) can be rewritten as the following equation by eliminating $ \\alpha_2 $\n",
    "\n",
    "$$ L \\sin(\\alpha_1) + M \\cos(\\alpha_1) - N = 0 \\tag{7} $$\n",
    "\n",
    "which contains only one variable $ \\alpha_1 $ and where\n",
    "\n",
    "$\n",
    "\\begin{aligned}\n",
    "L &= 2 \\mathbf{v}_1 b \\\\\n",
    "M &= 2 \\mathbf{v}_1 a \\\\\n",
    "N &= \\mathbf{v}_1^2 + \\mathbf{v}_3^2 + 2 \\mathbf{v}_2 \\mathbf{v}_3 \\cos(\\gamma)\n",
    "\\end{aligned}\n",
    "$\n",
    "\n",
    "By applying the tangent half-angle formula to $ \\sin(\\alpha_1) $ and $ \\cos(\\alpha_1) $, the equation becomes \n",
    "\n",
    "$$ \\left( M + N \\right)^2 - 2LT - \\left( M - N \\right) = 0 \\tag{8} $$\n",
    "\n",
    "where $ T = \\tan\\left(\\frac{\\alpha_1}{2}\\right) \\ $\n",
    "\n",
    "</div>\n"
   ]
  },
  {
   "cell_type": "markdown",
   "metadata": {},
   "source": [
    "\\begin{equation*}\\begin{bmatrix}{\\mathbf{n}^{T}} & {\\left(\\mathbf{c}_{1} \\times \\mathbf{n}\\right)^{T}} \\\\ {\\mathbf{n}^{T}} & {\\left(\\mathbf{c}_{2} \\times \\mathbf{n}\\right)^{T}} \\\\ {\\mathbf{n}^{T}} & {\\left(\\mathbf{c}_{3} \\times \\mathbf{n}\\right)^{T}}\\end{bmatrix}\\begin{bmatrix}{\\dot{\\mathbf{p}}} \\\\ {\\boldsymbol{\\omega}}\\end{bmatrix}=\\begin{bmatrix}{\\mathbf{K}_{4}} & {\\mathbf{0}} & {\\mathbf{0}} \\\\ {\\mathbf{0}} & {\\mathbf{K}_{5}} & {\\mathbf{0}} \\\\ {\\mathbf{0}} & {\\mathbf{0}} & {\\mathbf{K}_{6}}\\end{bmatrix} \\dot{\\boldsymbol{\\theta}} \\tag{29}\\end{equation*}"
   ]
  },
  {
   "cell_type": "markdown",
   "metadata": {},
   "source": [
    "## Singularity Analysis\n",
    "---"
   ]
  },
  {
   "cell_type": "markdown",
   "metadata": {},
   "source": [
    "One of the main reasons for the limited orientational workspace of spatial parallel robots is the occurence of singularities. Indeed, the translational workspace can always be increased by scaling up the robot but this operation has no impact on the orientational workspace. Therefore, the singularity analysis is a very important component of the assessment of the performances of parallel robots. In this section, it will be shown that the singular configurations of the proposed redundant hybrid parallel robot are easily avoided, which yields an orientational workspace that is much larger than that of typical parallel mechanisms.\n",
    "\n",
    "The singularities of the proposed robot architecture can be divided into two categories, namely the singularities (serial and parallel) occuring in one of the legs and the parallel (type II) singularities of the platform. Since the legs include a serial and a parallel component, the singularities occuring in one of the legs can be of either type. However, because of the simple architecture of the legs – one revolute joint in series with a planar five-bar linkage – the analysis of the singularities occuring in a leg is rather straightforward. The type I (serial) singularities of a leg occur when matrix $W_i$, defined in Equation 11, is singular. Such a singularity occurs if the spherical joint is located on the axis of the first revolute joint. In this case one has $w_{i_{11}} = 0$ which makes matrix $W_i$ singular. This is avoided in the final design by making the first joint horizontal, i.e., $α=π$, which renders this configuration unreachable. A type I singularity also occurs if $v_i$ is orthogonal to $(e_{i_2}× s_{i_2})$ or if $u_i$ is orthogonal to $(e_{i_3}× s_{i_6})$. It is rather straightforward to avoid such configurations by a proper dimensioning of the five-bar linkage to make them correspond to the limits of the workspace. The type II (parallel) singularities that can occur in a leg correspond to a singularity of matrix $J_i$, defined in Equation 10. In this matrix, the first row is always orthogonal to the last two. Therefore, singularities can occur if the last two rows become linearly dependent. From the structure of the matrix, it is easy to see that this condition corresponds to the alignment of links $i_5$ and $i_7$. These configurations are easily avoided in practice. In summary, the possible singularities of the legs are easily handled."
   ]
  },
  {
   "cell_type": "markdown",
   "metadata": {},
   "source": [
    "## Utilising the Redundancy To Operate A Gripper\n",
    "---"
   ]
  },
  {
   "cell_type": "markdown",
   "metadata": {},
   "source": [
    "In the previous section, it was shown that it is possible to avoid all type II singularities by proper design and trajectory planning. However, the redundancy of the robot can be further exploited, for instance to operate a gripper from the base motors, similarly to what was proposed in [24] for scara-type robots. Indeed, in the preceding section, the redundancy was used to avoid singular configurations, which leaves infinitely many non-singular configurations for a given position and orientation of the platform. Considering again the platform and the links $i_4$, as shown in Fig. 4, it is possible that if links $i_4$ are maintained at an angle within the range $β_i∈]β^{min}_i,β^{max}_i[=]30^∘,150^∘[$ type II singularities can never occur (the three lines can never become dependent)."
   ]
  },
  {
   "cell_type": "markdown",
   "metadata": {},
   "source": [
    "| ![Image 1](Docs/Media/LinkAngleRange.png) | ![Image 2](Docs/Media/OrientationalWorkspace.png) |\n",
    "|:---:|:---:|\n",
    "| *Figure 3: Ranges of orientation of the distal links* | *Figure 4: Orientational workspace of the mechanism* |"
   ]
  },
  {
   "cell_type": "markdown",
   "metadata": {},
   "source": [
    "The platform and links $i_4$ of the robot are therefore modified so that two of the degrees of redundancy are used to operate a gripper by changing angle $β_i$. To this end, the revolute joints at the platform are replaced with planar parallelogram four-bar linkages, without changing the kinematics of the platform. The resulting mechanism is shown in Fig. 5. The fingers of the gripper are mounted on two of these mechanisms. The proximal links of the mechanisms have the same length so that the fingers follow a circular path while keeping the same orientation. The shape of the platform allows a symmetric parallel movement of the fingers, which can each be controlled independently. The opening distance of the fingers, $δ_1$ and $δ_3$ are easily written in terms of angles $β_1$ and $β_3$ and the geometric parameters of the mechanism. Fig. 6 illustrates the kinematics of the gripper linkages. The virtual revolute joints represent the equivalent revolute joint of the initial architecture. The relations between the opening distances δ1 and $δ_3$ and angles $β_1$ and $β_3$ can be written as"
   ]
  },
  {
   "cell_type": "markdown",
   "metadata": {},
   "source": [
    "| ![Image 1](Docs/Media/Closeup.png) | ![Image 2](Docs/Media/GripperKinematics.png) |\n",
    "|:---:|:---:|\n",
    "| *Figure 5: Mechanical arrangement of the platform and gripper* | *Figure 6: Kinematics of the gripper linkages* |"
   ]
  },
  {
   "cell_type": "markdown",
   "metadata": {},
   "source": [
    "\\begin{equation*}\\displaystyle \\delta_{1}=A\\left(\\frac{1}{2}+\\cos\\beta_{1}\\right)\\,\\ \\delta_{3}=A\\left(\\frac{1}{2}-\\cos\\beta_{3}\\right) \\tag{35}\\end{equation*}"
   ]
  },
  {
   "cell_type": "markdown",
   "metadata": {},
   "source": [
    "where A is the maximum opening of the fingers ($δ_1$ and $δ_3$), which is equal to $25mm$ in the current design. Because the fingers remain in the same orientation while moving, only the lateral distances between the flanges of the fingers and the centre of the effector are considered to calculate the opening values $δ_i,i=1, 3$. Equation 35 shows that the robot is kept well away from singularities when operating the gripper. Indeed, the design is such that when the fingers are closed $(δ_1 = δ_3 = 0)$, one has $β_1=120^o$ and $β_3=60^o$ and when the fingers are completely open $(δ_1 = δ_3 = A)$, one has $β_1=60^o$ and $β_3=120^o$ Angles $β_i$ are mechanically limited to the range $[60^o, 120^o]$ and hence type II singularities are completely avoided."
   ]
  },
  {
   "cell_type": "markdown",
   "metadata": {},
   "source": [
    "## Virtual and Physical Prototypes"
   ]
  },
  {
   "cell_type": "markdown",
   "metadata": {},
   "source": [
    "| ![Image 1](Docs/Media/Robotcad.png) | ![Image 2](Docs/Media/Robot.png) |\n",
    "|:---:|:---:|\n",
    "| *Figure 7: CAD model of the 6+3-dof hybrid parallel robot* | *Figure 8: Physical prototype of the robot* |"
   ]
  },
  {
   "cell_type": "markdown",
   "metadata": {},
   "source": [
    "## Conclusion\n",
    "---"
   ]
  },
  {
   "cell_type": "markdown",
   "metadata": {},
   "source": [
    "The paper introduced a 6+3-DoF kinematically redundant hybrid parallel robot. The research shows that the type II singularities of the mechanism can be avoided by design and trajectory planning rules. As a result, the orientational workspace of the robot is larger compared to similar non-redundant parallel mechanisms. Although the mechanism architecture is not completely parallel, moving actuators are located closely to the base and undergo motion with a small amplitude, and thereby they limit the inertia of the moving components. \n",
    "\n",
    "In addition to avoiding singularities, paper argues that kinematic redundancy can be a tool of operating a gripper mounted at the end-effector. This feature avoids the need to include an actuator on the end-effector in order to operate the gripper, which is another advantage regarding moving inertia. Any mass added to the end-effector is highly detrimental to the agility of a parallel robot. \n",
    "\n",
    "As closure, the paper introduced the CAD and physical prototypes of the robot to demonstrate its features. Current work includes the optimal design of all the components of the proposed robot and the development of a prototype."
   ]
  }
 ],
 "metadata": {
  "kernelspec": {
   "display_name": "Python 3",
   "language": "python",
   "name": "python3"
  },
  "language_info": {
   "codemirror_mode": {
    "name": "ipython",
    "version": 3
   },
   "file_extension": ".py",
   "mimetype": "text/x-python",
   "name": "python",
   "nbconvert_exporter": "python",
   "pygments_lexer": "ipython3",
   "version": "3.8.10"
  }
 },
 "nbformat": 4,
 "nbformat_minor": 2
}
