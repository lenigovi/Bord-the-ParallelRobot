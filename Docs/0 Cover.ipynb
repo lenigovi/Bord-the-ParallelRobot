{
 "cells": [
  {
   "cell_type": "markdown",
   "metadata": {},
   "source": [
    "<div>\n",
    "<img src=\"Media\\MedIT.jpg\" alt=\"Your Image Caption Here\" style=\"float:right; width:300px;\"/>\n",
    "</div>\n",
    "\n",
    "\n",
    "<div>\n",
    "\n",
    "<h1 style=\"font-family: 'Montserrat', sans-serif;\">Report</h1>\n",
    "\n",
    "Report\n",
    "\n",
    "Kinematically Redundant 6+3 DoF Hybrid Parallel Robot with Singularity Conditions and Analytical Inverse Kinematic Solutions\n",
    "</div>\n",
    "\n",
    "\n",
    "<!DOCTYPE html>\n",
    "<html lang=\"en\">\n",
    "<head>\n",
    "    <meta charset=\"UTF-8\">\n",
    "    <meta name=\"viewport\" content=\"width=device-width, initial-scale=1.0\">\n",
    "    <link rel=\"stylesheet\" href=\"https://fonts.googleapis.com/css2?family=Montserrat:wght@400;700&display=swap\">\n",
    "    <title>Montserrat Font Example</title>\n",
    "</head>\n",
    "<body>\n",
    "    <h1 style=\"font-family: 'Montserrat', sans-serif;\">This is a heading</h1>\n",
    "    <p style=\"font-family: 'Montserrat', sans-serif;\">This is a paragraph with Montserrat font.</p>\n",
    "</body>\n",
    "</html>\n",
    "\n",
    "\n",
    "\n",
    "<!DOCTYPE html>\n",
    "<html>\n",
    "<head>\n",
    "<link href='https://fonts.googleapis.com/css?family=Montserrat' rel='stylesheet'>\n",
    "<style>\n",
    "body {\n",
    "    font-family: 'Montserrat';font-size: 22px;\n",
    "}\n",
    "</style>\n",
    "</head>\n",
    "<body>\n",
    "\n",
    "<h1>Montserrat</h1>\n",
    "<p>Lorem ipsum dolor sit amet, consectetuer adipiscing elit.</p>\n",
    "<p>123456790</p>\n",
    "<p>ABCDEFGHIJKLMNOPQRSTUVWXYZ</p>\n",
    "<p>abcdefghijklmnopqrstuvwxyz</p>\n",
    "\n",
    "</body>\n",
    "</html>"
   ]
  }
 ],
 "metadata": {
  "kernelspec": {
   "display_name": "Python 3",
   "language": "python",
   "name": "python3"
  },
  "language_info": {
   "codemirror_mode": {
    "name": "ipython",
    "version": 3
   },
   "file_extension": ".py",
   "mimetype": "text/x-python",
   "name": "python",
   "nbconvert_exporter": "python",
   "pygments_lexer": "ipython3",
   "version": "3.8.10"
  }
 },
 "nbformat": 4,
 "nbformat_minor": 2
}
