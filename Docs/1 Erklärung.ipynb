{
 "cells": [
  {
   "cell_type": "markdown",
   "metadata": {},
   "source": [
    "Hiermit erkläre ich, dass ich die vorliegende Arbeit ohne fremde Hilfe selbstständig\n",
    "verfasst und nur die angegebenen Quellen und Hilfsmittel benutzt habe. Ich versichere\n",
    "weiterhin, dass ich diese Arbeit noch keinem anderen Prüfungsgremium vorgelegt habe.\n",
    "\n",
    "Aachen, im February 2024\n",
    "\n",
    "Elena Valerija Herzegovina"
   ]
  }
 ],
 "metadata": {
  "language_info": {
   "name": "python"
  }
 },
 "nbformat": 4,
 "nbformat_minor": 2
}
