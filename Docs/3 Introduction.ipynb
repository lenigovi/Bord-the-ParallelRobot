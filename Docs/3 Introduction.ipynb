{
 "cells": [
  {
   "cell_type": "markdown",
   "metadata": {},
   "source": [
    "# Abstract\n",
    "\n",
    "[R(RR-RRR)SR] kinematically redundant 6+3-degree-of-freedom (dof)spatial hybrid parallel robot with revolute actuators is proposed. The kinematic model is developed based on the constraint conditions of the robot. It is shown that the type II (parallel) singularities can be completely avoided, thereby greatly extending the orientational workspace. Mechanisms are then introduced to use the redundant degrees of freedom of the robot to operate a gripper with the robot actuators, which are mounted on or close to the base. A CAD model of the robot is shown and a computer animation is provided to demonstrate the resulting architecture, which has full 6-dof capabilities and a large orientational workspace.\n",
    "\n",
    "\n",
    "# Introduction\n",
    "---\n",
    "\n",
    "\n",
    "Applications of six-degree-of-freedom (6-dof) spatial parallel mechanisms (SPMs) can be found in many areas such as robotics, motion simulators and high-precision positioning devices due to their properties of high payload capability and positioning accuracy. However, the performances of such mechanisms are limited by singularities within their workspace, especially parallel (type II) singularities [1]-[4].\n",
    "\n",
    "Although the singularity analysis approaches mentioned above are helpful for trajectory planning, the workspace of parallel mechanisms is always limited by such singularities. As a means of alleviating these shortcomings, the use of redundancy was proposed by some researchers. Pierrot [5] distinguishes three types of redundancies, namely: kinematic, actuation and measurement redundancy.\n",
    "\n",
    "When the mobility of at least one of the legs is greater than the required DoF, the mechanism is said to be kinematically redundant. This can be used for singularity avoidance and workspace enlargement. If extra legs are added to the mechanism or if some of the passive joints are actuated, the mechanism is said to be redundantly actuated. Such type of redundancy may help to avoid singularities and increase stiffness. However, redundantly actuated mechanisms may also generate internal forces, which lead to control and calibration complexities. Measurement redundancy can be achieved by using more sensors than the number of actuated joints and is introduced to improve the accuracy of the mechanism. However, it does not help to avoid singularities. Therefore it can be argued that kinematic redundancy is a method to achieve singularity avoidance.\n",
    "\n",
    "The paper proposes a three-legged revolute joint actuated (6+3)-DoF kinematically redundant hybrid parallel robot that is akin to the 3-R(RR-RRR)SR platform. The mechanism is driven by nine motors: three per leg. In each leg, one of the three motors is attached to the fixed base while the other two form a planar parallel mechanism mounted on the output link of the first actuator. Using this arrangement, it is shown that type II singularities can be completely avoided.\n",
    "\n"
   ]
  }
 ],
 "metadata": {
  "language_info": {
   "name": "python"
  }
 },
 "nbformat": 4,
 "nbformat_minor": 2
}
