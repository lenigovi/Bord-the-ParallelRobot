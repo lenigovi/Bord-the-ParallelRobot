{
 "cells": [
  {
   "cell_type": "markdown",
   "metadata": {},
   "source": [
    "# Introduction"
   ]
  },
  {
   "cell_type": "markdown",
   "metadata": {},
   "source": [
    "Applications of six-degree-of-freedom (6-dof) spatial parallel mechanisms (SPMs) can be found in many areas such as robotics, motion simulators and high-precision positioning devices due to their properties of high payload capability and positioning accuracy. However, the performances of such mechanisms are limited by singularities within their workspace, especially parallel (type II) singularities [1]–​[4]."
   ]
  },
  {
   "cell_type": "markdown",
   "metadata": {},
   "source": [
    "When the mobility of at least one of the legs is greater than the required DoF, the mechanism is said to be kinematically redundant. This can be used for singularity avoidance and workspace enlargement [12]–​[15]. If extra legs are added to the mechanism or if some of the passive joints are actuated, the mechanism is said to be redundantly actuated [16]. Such type of redundancy may help to avoid singularities and increase stiffness [17]. However, redundantly actuated mechanisms may also generate internal forces, which lead to control and calibration complexities [18], [19]. Measurement redundancy can be achieved by using more sensors than the number of actuated joints and is introduced to improve the accuracy of the mechanism [20]. However, it does not help to avoid singularities. It can therefore be argued that kinematic redundancy is a very attractive way to achieve singularity avoidance. A detailed analysis of SPMs with several different kinematically redundant legs can be found in [21].\n",
    "\n"
   ]
  },
  {
   "cell_type": "markdown",
   "metadata": {},
   "source": [
    "# Robot Architecture"
   ]
  },
  {
   "cell_type": "markdown",
   "metadata": {},
   "source": [
    "The mechanism is driven by nine motors: three per leg. In each leg, one of the three motors is attached to the fixed base while the other two form a planar parallel mechanism mounted on the output link of the first actuator. Using this arrangement, it is shown that type II singularities can be completely avoided."
   ]
  },
  {
   "cell_type": "markdown",
   "metadata": {},
   "source": [
    "# Kinematic Modeling"
   ]
  },
  {
   "cell_type": "markdown",
   "metadata": {},
   "source": [
    "A base frame and a moving frame are respectively attached to the centroid of the base and moving platforms, which are noted as $O_{xyz}$ and $O′_{x′y′z′}$ (see Fig. 2)\n",
    "\n",
    "![](Media/KinematicModel.png)\n",
    "*Figure 1: Architecture of the proposed hybrid parallel robot*\n",
    "\n",
    "![](Media/GeometricDescription.png)\n",
    "*Figure 2: Geometric description of one leg*\n",
    "\n",
    "Vector p represents the position of $O′$ with respect to $O$ and matrix $Q$ is the orientation of the moving platform with respect to the base. Vector $r_i$ denotes the position of $S_i$. Vector $n$ is the unit vector along the axis of the revolute joint attached to the platform and $d_i$ is the position vector of the centre of the revolute joint that is attached to the platform, which is expressed in the moving frame. Except for $d_i$, all vectors are expressed in the base frame. The constraint equations of the robot, which are used to derive the kinematics, can be written as follows. Firstly, the constraint on the length of the fourth link is written as:"
   ]
  },
  {
   "cell_type": "markdown",
   "metadata": {},
   "source": [
    "\\begin{equation*}\\left(\\mathbf{p}+\\mathbf{Q} \\mathbf{d}_{i}-\\mathbf{r}_{i}\\right)^{T}\\left(\\mathbf{p}+\\mathbf{Q} \\mathbf{d}_{i}-\\mathbf{r}_{i}\\right)=l_{i 4}^{2}, \\quad i=1,2,3 \\tag{1}\\end{equation*}"
   ]
  },
  {
   "cell_type": "markdown",
   "metadata": {},
   "source": [
    "# Forward Kinematic Analysis of a KRHPR with RRRSR Legs\n",
    "\n",
    "## Approach One: Newton-Raphson\n",
    "\n",
    "<div style=\"text-align: justify\">\n",
    "\n",
    "Although it is possible to obtain all the possible postures of the platform by utilizing the previous approach, in practical applications, a unique solution is desired. The Newton–Raphson method can be used for this purpose. Because the direction cosines of the $z'$-axis, denoted by $q_z$, are the same as the vector $z_1$ given in Eq. (2), the remaining unknown parameters are the direction cosines of the $x'$- and $y'$-axes, denoted, respectively, by $q_x$ and $q_y$, and the position vector $p$, which contains in total nine variables. Thus, a system of nine constraint equations can be formed to implement the Newton–Raphson method.\n",
    "\n",
    "As it can be observed from Fig. 2, a constraint equation on the squared length of each redundant link can be written as\n",
    "\n",
    "$$(\\mathbf{p} + \\mathbf{Q}\\mathbf{d}_i - \\mathbf{p}_i)^T (\\mathbf{p} + \\mathbf{Q}\\mathbf{d}_i - \\mathbf{p}_i) - l_{i4}^2 = 0, \\quad i = 1, 2, 3 \\tag{1} $$\n",
    "\n",
    "in which $ \\mathbf{Q} = [q_x \\quad q_y \\quad q_z]$. In addition, the vectors $(p_1 − p)$ and $q_z$ are always orthogonal, and therefore $(\\mathbf{p}_1 - \\mathbf{p})^T \\mathbf{q}_z = 0$\n",
    "\n",
    "Finally, the rotation matrix must be orthogonal, namely\n",
    "\n",
    "$$\\mathbf{Q}^T \\mathbf{Q} - \\mathbf{I} = \\mathbf{0} \\tag{2}$$\n",
    "\n",
    "where $ \\mathbf{I}$ is the $3 \\times 3$ identity matrix. Equation (6) provides five constraint equations since $q_z$ is obtained from the outset using Eq. (2).\n",
    "\n",
    "Combining Eqs. (4), (5), and (6) yields a system of nine equations in nine unknowns $\\mathbf{F}(\\mathbf{X}) = \\mathbf{0}$ where $\\mathbf{X} = [ \\mathbf{q}_x^T \\quad \\mathbf{q}_y^T \\quad \\mathbf{p}^T ]^T$ and where most of the equations are nonlinear. The Newton–Raphson method at iteration $k$ can be written as\n",
    "\n",
    "$$\\text{Solve} \\quad \\mathbf{F}'(\\mathbf{X}) (\\mathbf{X}^{(k)} + \\mathbf{\\delta}^{(k)}) = -\\mathbf{F}(\\mathbf{X}^{(k)}) \\quad \\text{for} \\quad \\mathbf{\\delta}^{(k)} \\tag{3} $$\n",
    "\n",
    "$$\\mathbf{X}^{(k+1)} = \\mathbf{X}^{(k)} + \\mathbf{\\delta}^{(k)}, \\quad k = 0, 1, \\ldots \\tag{4}$$\n",
    "\n",
    "where matrix $\\mathbf{F}'(\\mathbf{X})$ is the partial derivative of vector $\\mathbf{F}(\\mathbf{X})$ with respect to vector $\\mathbf{X}$ and is of dimension $9 \\times 9$.\n",
    "\n",
    "The procedure stops when the equations are satisfied within a predetermined accuracy. With a proper initial guess (which is usually available in the continuous tracking of a trajectory), the procedure converges very quickly (typically less than four iterations are required).\n",
    "\n",
    "## Approach Two: Using One Extra Encoder\n",
    "\n",
    "One possible way to avoid the use of a numerical method while limiting the number of possible solutions consists in adding extra encoders to the passive joints to acquire more information. We start the analysis by adding an encoder to joint $R14$ to measure the magnitude of angle $ \\beta_1 $.\n",
    "\n",
    "As shown in Fig. 5, the vectors $v_i, i = 1, 2, 3, 4$ construct a planar 4-bar linkage whose vector loop equation expressed in the intermediate frame $S_1x_1y_1z_1$ can be written as $ \\mathbf{v}_2 + \\mathbf{v}_3 = \\mathbf{v}_1 + \\mathbf{v}_4 $\n",
    "\n",
    "Writing Eq. (10) in matrix form yields\n",
    "\n",
    "$$ \\begin{bmatrix} \\mathbf{v}_2 \\cos(\\alpha_1) \\\\ \\mathbf{v}_2 \\sin(\\alpha_1) \\end{bmatrix} + \\begin{bmatrix} \\mathbf{v}_3 \\cos(\\phi) \\\\ \\mathbf{v}_3 \\sin(\\phi) \\end{bmatrix} = \\begin{bmatrix} \\mathbf{v}_1 \\\\ 0 \\end{bmatrix} + \\begin{bmatrix} \\mathbf{v}_4 \\cos(\\alpha_2) \\\\ \\mathbf{v}_4 \\sin(\\alpha_2) \\end{bmatrix} \\tag{5} $$\n",
    "\n",
    "where $ \\phi = \\alpha_1 - \\gamma $ with $v_i, i = 1, 2, 3, 4$ denotes the norm of the corresponding vector. Equation (11) can be rewritten as\n",
    "\n",
    "$$ \\begin{bmatrix} a \\cos(\\alpha_1) + b \\sin(\\alpha_1) - v_1 \\\\ -b \\cos(\\alpha_1) + a \\sin(\\alpha_1) \\end{bmatrix} = \\begin{bmatrix} \\mathbf{v}_4 \\cos(\\alpha_2) \\\\ \\mathbf{v}_4 \\sin(\\alpha_2) \\end{bmatrix} \\tag{6} $$\n",
    "\n",
    "in which $ a = \\mathbf{v}_2 + \\mathbf{v}_3 \\cos(\\gamma) $ and $ b = \\mathbf{v}_3 \\sin(\\gamma) $. Since $v_2 = v_4$, Eq. (12) can be rewritten as the following equation by eliminating $ \\alpha_2 $\n",
    "\n",
    "$$ L \\sin(\\alpha_1) + M \\cos(\\alpha_1) - N = 0 \\tag{7} $$\n",
    "\n",
    "which contains only one variable $ \\alpha_1 $ and where\n",
    "\n",
    "$\n",
    "\\begin{aligned}\n",
    "L &= 2 \\mathbf{v}_1 b \\\\\n",
    "M &= 2 \\mathbf{v}_1 a \\\\\n",
    "N &= \\mathbf{v}_1^2 + \\mathbf{v}_3^2 + 2 \\mathbf{v}_2 \\mathbf{v}_3 \\cos(\\gamma)\n",
    "\\end{aligned}\n",
    "$\n",
    "\n",
    "By applying the tangent half-angle formula to $ \\sin(\\alpha_1) $ and $ \\cos(\\alpha_1) $, the equation becomes \n",
    "\n",
    "$$ \\left( M + N \\right)^2 - 2LT - \\left( M - N \\right) = 0 \\tag{8} $$\n",
    "\n",
    "where $ T = \\tan\\left(\\frac{\\alpha_1}{2}\\right) \\ $\n",
    "\n",
    "</div>\n"
   ]
  }
 ],
 "metadata": {
  "language_info": {
   "name": "python"
  }
 },
 "nbformat": 4,
 "nbformat_minor": 2
}
