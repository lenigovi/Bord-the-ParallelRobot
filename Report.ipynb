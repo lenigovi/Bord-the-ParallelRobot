{
 "cells": [
  {
   "cell_type": "markdown",
   "metadata": {},
   "source": [
    "<link rel=\"stylesheet\" type=\"text/css\" href=\"style.css\">"
   ]
  },
  {
   "cell_type": "markdown",
   "metadata": {},
   "source": [
    "# Forward Kinematic Analysis of a KRHPR with RRRSR Legs\n",
    "## Approach One: Newton-Raphson\n",
    "\n",
    "Although it is possible to obtain all the possible postures of the platform by utilizing the previous approach, in practical applications, a unique solution is desired. The Newton–Raphson method can be used for this purpose. Because the direction cosines of the $z'$-axis, denoted by $q_z$, are the same as the vector $z_1$ given in Eq. (2), the remaining unknown parameters are the direction cosines of the $x'$- and $y'$-axes, denoted, respectively, by $q_x$ and $q_y$, and the position vector $p$, which contains in total nine variables. Thus, a system of nine constraint equations can be formed to implement the Newton–Raphson method.\n",
    "\n",
    "As it can be observed from Fig. 2, a constraint equation on the squared length of each redundant link can be written as\n",
    "\n",
    "$$(\\mathbf{p} + \\mathbf{Q}\\mathbf{d}_i - \\mathbf{p}_i)^T (\\mathbf{p} + \\mathbf{Q}\\mathbf{d}_i - \\mathbf{p}_i) - l_{i4}^2 = 0, \\quad i = 1, 2, 3$$\n",
    "\n",
    "in which $ \\mathbf{Q} = [q_x \\quad q_y \\quad q_z]$. In addition, the vectors $(p_1 − p)$ and $q_z$ are always orthogonal, and therefore $(\\mathbf{p}_1 - \\mathbf{p})^T \\mathbf{q}_z = 0$\n",
    "\n",
    "Finally, the rotation matrix must be orthogonal, namely\n",
    "\n",
    "$$\\mathbf{Q}^T \\mathbf{Q} - \\mathbf{I} = \\mathbf{0}$$\n",
    "\n",
    "where $ \\mathbf{I}$ is the $3 \\times 3$ identity matrix. Equation (6) provides five constraint equations since $q_z$ is obtained from the outset using Eq. (2). Combining Eqs. (4), (5), and (6) yields a system of nine equations in nine unknowns $\\mathbf{F}(\\mathbf{X}) = \\mathbf{0}$ where $\\mathbf{X} = [ \\mathbf{q}_x^T \\quad \\mathbf{q}_y^T \\quad \\mathbf{p}^T ]^T$ and where most of the equations are nonlinear. The Newton–Raphson method at iteration $k$ can be written as\n",
    "\n",
    "\n",
    "$$\\text{Solve} \\quad \\mathbf{F}'(\\mathbf{X}) (\\mathbf{X}^{(k)} + \\mathbf{\\delta}^{(k)}) = -\\mathbf{F}(\\mathbf{X}^{(k)}) \\quad \\text{for} \\quad \\mathbf{\\delta}^{(k)}$$\n",
    "\n",
    "$$\\mathbf{X}^{(k+1)} = \\mathbf{X}^{(k)} + \\mathbf{\\delta}^{(k)}, \\quad k = 0, 1, \\ldots$$\n",
    "\n",
    "where matrix $\\mathbf{F}'(\\mathbf{X})$ is the partial derivative of vector $\\mathbf{F}(\\mathbf{X})$ with respect to vector $\\mathbf{X}$ and is of dimension $9 \\times 9$.\n",
    "\n",
    "The procedure stops when the equations are satisfied within a predetermined accuracy. With a proper initial guess (which is usually available in the continuous tracking of a trajectory), the procedure converges very quickly (typically less than four iterations are required).\n",
    "\n",
    "\n",
    "## Approach Two: Using One Extra Encoder\n",
    "\n",
    "One possible way to avoid the use of a numerical method while limiting the number of possible solutions consists in adding extra encoders to the passive joints to acquire more information. We start the analysis by adding an encoder to joint $R14$ to measure the magnitude of angle $ \\beta_1 $.\n",
    "\n",
    "As shown in Fig. 5, the vectors $v_i, i = 1, 2, 3, 4$ construct a planar 4-bar linkage whose vector loop equation expressed in the intermediate frame $S_1x_1y_1z_1$ can be written as $ \\mathbf{v}_2 + \\mathbf{v}_3 = \\mathbf{v}_1 + \\mathbf{v}_4 $\n",
    "\n",
    "Writing Eq. (10) in matrix form yields\n",
    "\n",
    "$$ \\begin{bmatrix} \\mathbf{v}_2 \\cos(\\alpha_1) \\\\ \\mathbf{v}_2 \\sin(\\alpha_1) \\end{bmatrix} + \\begin{bmatrix} \\mathbf{v}_3 \\cos(\\phi) \\\\ \\mathbf{v}_3 \\sin(\\phi) \\end{bmatrix} = \\begin{bmatrix} \\mathbf{v}_1 \\\\ 0 \\end{bmatrix} + \\begin{bmatrix} \\mathbf{v}_4 \\cos(\\alpha_2) \\\\ \\mathbf{v}_4 \\sin(\\alpha_2) \\end{bmatrix} $$\n",
    "\n",
    "where $ \\phi = \\alpha_1 - \\gamma $ with $v_i, i = 1, 2, 3, 4$ denotes the norm of the corresponding vector. Equation (11) can be rewritten as\n",
    "\n",
    "$$ \\begin{bmatrix} a \\cos(\\alpha_1) + b \\sin(\\alpha_1) - v_1 \\\\ -b \\cos(\\alpha_1) + a \\sin(\\alpha_1) \\end{bmatrix} = \\begin{bmatrix} \\mathbf{v}_4 \\cos(\\alpha_2) \\\\ \\mathbf{v}_4 \\sin(\\alpha_2) \\end{bmatrix} $$\n",
    "\n",
    "in which $ a = \\mathbf{v}_2 + \\mathbf{v}_3 \\cos(\\gamma) $ and $ b = \\mathbf{v}_3 \\sin(\\gamma) $. Since $v_2 = v_4$, Eq. (12) can be rewritten as the following equation by eliminating $ \\alpha_2 $\n",
    "\n",
    "$$ L \\sin(\\alpha_1) + M \\cos(\\alpha_1) - N = 0 $$\n",
    "\n",
    "which contains only one variable $ \\alpha_1 $ and where\n",
    "\n",
    "$\n",
    "\\begin{aligned}\n",
    "L &= 2 \\mathbf{v}_1 b \\\\\n",
    "M &= 2 \\mathbf{v}_1 a \\\\\n",
    "N &= \\mathbf{v}_1^2 + \\mathbf{v}_3^2 + 2 \\mathbf{v}_2 \\mathbf{v}_3 \\cos(\\gamma)\n",
    "\\end{aligned}\n",
    "$\n",
    "\n",
    "By applying the tangent half-angle formula to $sinα_1$ and $cosα_1$, one can obtain\n",
    "\n",
    "$((M + N)^2 - 2LT - (M - N) = 0)$\n",
    "\n",
    "where $T = tan (α_1/2)$\n",
    "The dimensional parameters of the proposed 3-RRRSR KRHPR are shown in Table 1, in where $R_b$ and $R_p$ are the radii of the circumscribed circles of the base and platform.\n",
    "\n",
    "| $R_b$  | $R_p$  | $I_{i_1} = I_{i_4}$ | $I_{i_2} = I_{i_3}$ | α       |\n",
    "|--------|--------|-----------------|-----------------|---------|\n",
    "| $250 mm$ | $125 mm$ | $50 mm$     | $300 mm$       | $250 deg$ |\n",
    "\n",
    "\n",
    "\n",
    "\n",
    "\n",
    "\n",
    "\n",
    "\n"
   ]
  },
  {
<<<<<<< HEAD
   "cell_type": "code",
   "execution_count": null,
=======
   "cell_type": "code",
   "execution_count": 21,
>>>>>>> fb0be45af80693edbf0b44e36d5183bdb3ef353c
   "metadata": {},
<<<<<<< HEAD
   "outputs": [],
=======
   "outputs": [
    {
     "name": "stdout",
     "output_type": "stream",
     "text": [
      "Note: you may need to restart the kernel to use updated packages.\n",
      "Requirement already satisfied: sphinx-tippy in c:\\users\\lenih\\appdata\\local\\packages\\pythonsoftwarefoundation.python.3.8_qbz5n2kfra8p0\\localcache\\local-packages\\python38\\site-packages (0.4.1)\n"
     ]
    },
    {
     "name": "stderr",
     "output_type": "stream",
     "text": [
      "ERROR: Could not find a version that satisfies the requirement tippyjs (from versions: none)\n",
      "ERROR: No matching distribution found for tippyjs\n",
      "WARNING: You are using pip version 21.1.1; however, version 23.3.2 is available.\n",
      "You should consider upgrading via the 'C:\\Users\\lenih\\AppData\\Local\\Microsoft\\WindowsApps\\PythonSoftwareFoundation.Python.3.8_qbz5n2kfra8p0\\python.exe -m pip install --upgrade pip' command.\n"
     ]
    }
   ],
   "source": [
    "pip install sphinx-tippy tippyjs\n"
   ]
  },
  {
   "cell_type": "code",
   "execution_count": 22,
   "metadata": {},
   "outputs": [
    {
     "data": {
      "text/html": [
       "\n",
       "<link rel=\"stylesheet\" href=\"https://unpkg.com/tippy.js@6.3.4/dist/tippy.css\" integrity=\"sha384-pg6q7zrFXDpZFBG5/zb3l5RdluZw11R3x8CdoWUEg1ChzKnnQWTSn3mkNrg7rE9r\" crossorigin=\"anonymous\">\n",
       "<script src=\"https://unpkg.com/tippy.js@6.3.4/dist/tippy.all.min.js\" integrity=\"sha384-QrVh4Ik10bsylEAClJxjcwTKn6aZO+AK5bs5u5Q/QhP8t/uZZFkgkgdJCA5S42rW\" crossorigin=\"anonymous\"></script>\n",
       "<script>\n",
       "    document.addEventListener('DOMContentLoaded', function() {\n",
       "        tippy('#your_link_id', {\n",
       "            content: 'This is a Tippy tooltip',\n",
       "        });\n",
       "    });\n",
       "</script>\n"
      ],
      "text/plain": [
       "<IPython.core.display.HTML object>"
      ]
     },
     "metadata": {},
     "output_type": "display_data"
    },
    {
     "data": {
      "text/html": [
       "<a id=\"your_link_id\" href=\"#\">Hover over me</a>"
      ],
      "text/plain": [
       "<IPython.core.display.HTML object>"
      ]
     },
     "metadata": {},
     "output_type": "display_data"
    }
   ],
>>>>>>> fb0be45af80693edbf0b44e36d5183bdb3ef353c
   "source": [
<<<<<<< HEAD
    "import matplotlib.pyplot as plt\n",
    "import numpy as np\n",
    "import mplcursors\n",
    "np.random.seed(42)\n",
=======
    "from IPython.display import display, HTML\n",
>>>>>>> fb0be45af80693edbf0b44e36d5183bdb3ef353c
    "\n",
<<<<<<< HEAD
    "fig, ax = plt.subplots()\n",
    "ax.scatter(*np.random.random((2, 26)))\n",
    "ax.set_title(\"Mouse over a point\")\n",
    "\n",
    "mplcursors.cursor(hover=True)\n",
    "\n",
    "plt.show()"
=======
    "# HTML and JavaScript code for Tippy\n",
    "tippy_code = \"\"\"\n",
    "<link rel=\"stylesheet\" href=\"https://unpkg.com/tippy.js@6.3.4/dist/tippy.css\" integrity=\"sha384-pg6q7zrFXDpZFBG5/zb3l5RdluZw11R3x8CdoWUEg1ChzKnnQWTSn3mkNrg7rE9r\" crossorigin=\"anonymous\">\n",
    "<script src=\"https://unpkg.com/tippy.js@6.3.4/dist/tippy.all.min.js\" integrity=\"sha384-QrVh4Ik10bsylEAClJxjcwTKn6aZO+AK5bs5u5Q/QhP8t/uZZFkgkgdJCA5S42rW\" crossorigin=\"anonymous\"></script>\n",
    "<script>\n",
    "    document.addEventListener('DOMContentLoaded', function() {\n",
    "        tippy('#your_link_id', {\n",
    "            content: 'This is a Tippy tooltip',\n",
    "        });\n",
    "    });\n",
    "</script>\n",
    "\"\"\"\n",
    "\n",
    "# Create a hyperlink with an ID\n",
    "link_id = 'your_link_id'\n",
    "link_text = 'Hover over me'\n",
    "link_html = f'<a id=\"{link_id}\" href=\"#\">{link_text}</a>'\n",
    "\n",
    "# Display HTML and JavaScript code\n",
    "display(HTML(tippy_code))\n",
    "display(HTML(link_html))\n"
>>>>>>> fb0be45af80693edbf0b44e36d5183bdb3ef353c
   ]
  }
 ],
 "metadata": {
  "kernelspec": {
   "display_name": "Python 3",
   "language": "python",
   "name": "python3"
  },
  "language_info": {
   "codemirror_mode": {
    "name": "ipython",
    "version": 3
   },
   "file_extension": ".py",
   "mimetype": "text/x-python",
   "name": "python",
   "nbconvert_exporter": "python",
   "pygments_lexer": "ipython3",
   "version": "3.8.10"
  }
 },
 "nbformat": 4,
 "nbformat_minor": 2
}
