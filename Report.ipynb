{
 "cells": [
  {
   "cell_type": "markdown",
   "metadata": {},
   "source": [
    "<link rel=\"stylesheet\" type=\"text/css\" href=\"style.css\">"
   ]
  },
  {
   "cell_type": "markdown",
   "metadata": {},
   "source": [
    "# Forward Kinematic Analysis of a KRHPR with RRRSR Legs\n",
    "## Approach One: Newton-Raphson\n",
    "\n",
    "Although it is possible to obtain all the possible postures of the platform by utilizing the previous approach, in practical applications, a unique solution is desired. The Newton–Raphson method can be used for this purpose. Because the direction cosines of the $z'$-axis, denoted by $q_z$, are the same as the vector $z_1$ given in Eq. (2), the remaining unknown parameters are the direction cosines of the $x'$- and $y'$-axes, denoted, respectively, by $q_x$ and $q_y$, and the position vector $p$, which contains in total nine variables. Thus, a system of nine constraint equations can be formed to implement the Newton–Raphson method.\n",
    "\n",
    "As it can be observed from Fig. 2, a constraint equation on the squared length of each redundant link can be written as\n",
    "\n",
    "$$(\\mathbf{p} + \\mathbf{Q}\\mathbf{d}_i - \\mathbf{p}_i)^T (\\mathbf{p} + \\mathbf{Q}\\mathbf{d}_i - \\mathbf{p}_i) - l_{i4}^2 = 0, \\quad i = 1, 2, 3$$\n",
    "\n",
    "in which $ \\mathbf{Q} = [q_x \\quad q_y \\quad q_z]$. In addition, the vectors $(p_1 − p)$ and $q_z$ are always orthogonal, and therefore $(\\mathbf{p}_1 - \\mathbf{p})^T \\mathbf{q}_z = 0$\n",
    "\n",
    "Finally, the rotation matrix must be orthogonal, namely\n",
    "\n",
    "$$\\mathbf{Q}^T \\mathbf{Q} - \\mathbf{I} = \\mathbf{0}$$\n",
    "\n",
    "where $ \\mathbf{I}$ is the $3 \\times 3$ identity matrix. Equation (6) provides five constraint equations since $q_z$ is obtained from the outset using Eq. (2). Combining Eqs. (4), (5), and (6) yields a system of nine equations in nine unknowns $\\mathbf{F}(\\mathbf{X}) = \\mathbf{0}$ where $\\mathbf{X} = [ \\mathbf{q}_x^T \\quad \\mathbf{q}_y^T \\quad \\mathbf{p}^T ]^T$ and where most of the equations are nonlinear. The Newton–Raphson method at iteration $k$ can be written as\n",
    "\n",
    "\n",
    "$$\\text{Solve} \\quad \\mathbf{F}'(\\mathbf{X}) (\\mathbf{X}^{(k)} + \\mathbf{\\delta}^{(k)}) = -\\mathbf{F}(\\mathbf{X}^{(k)}) \\quad \\text{for} \\quad \\mathbf{\\delta}^{(k)}$$\n",
    "\n",
    "$$\\mathbf{X}^{(k+1)} = \\mathbf{X}^{(k)} + \\mathbf{\\delta}^{(k)}, \\quad k = 0, 1, \\ldots$$\n",
    "\n",
    "where matrix $\\mathbf{F}'(\\mathbf{X})$ is the partial derivative of vector $\\mathbf{F}(\\mathbf{X})$ with respect to vector $\\mathbf{X}$ and is of dimension $9 \\times 9$.\n",
    "\n",
    "The procedure stops when the equations are satisfied within a predetermined accuracy. With a proper initial guess (which is usually available in the continuous tracking of a trajectory), the procedure converges very quickly (typically less than four iterations are required).\n",
    "\n",
    "\n",
    "## Approach Two: Using One Extra Encoder\n",
    "\n",
    "One possible way to avoid the use of a numerical method while limiting the number of possible solutions consists in adding extra encoders to the passive joints to acquire more information. We start the analysis by adding an encoder to joint $R14$ to measure the magnitude of angle $ \\beta_1 $.\n",
    "\n",
    "As shown in Fig. 5, the vectors $v_i, i = 1, 2, 3, 4$ construct a planar 4-bar linkage whose vector loop equation expressed in the intermediate frame $S_1x_1y_1z_1$ can be written as $ \\mathbf{v}_2 + \\mathbf{v}_3 = \\mathbf{v}_1 + \\mathbf{v}_4 $\n",
    "\n",
    "Writing Eq. (10) in matrix form yields\n",
    "\n",
    "$$ \\begin{bmatrix} \\mathbf{v}_2 \\cos(\\alpha_1) \\\\ \\mathbf{v}_2 \\sin(\\alpha_1) \\end{bmatrix} + \\begin{bmatrix} \\mathbf{v}_3 \\cos(\\phi) \\\\ \\mathbf{v}_3 \\sin(\\phi) \\end{bmatrix} = \\begin{bmatrix} \\mathbf{v}_1 \\\\ 0 \\end{bmatrix} + \\begin{bmatrix} \\mathbf{v}_4 \\cos(\\alpha_2) \\\\ \\mathbf{v}_4 \\sin(\\alpha_2) \\end{bmatrix} $$\n",
    "\n",
    "where $ \\phi = \\alpha_1 - \\gamma $ with $v_i, i = 1, 2, 3, 4$ denotes the norm of the corresponding vector. Equation (11) can be rewritten as\n",
    "\n",
    "$$ \\begin{bmatrix} a \\cos(\\alpha_1) + b \\sin(\\alpha_1) - v_1 \\\\ -b \\cos(\\alpha_1) + a \\sin(\\alpha_1) \\end{bmatrix} = \\begin{bmatrix} \\mathbf{v}_4 \\cos(\\alpha_2) \\\\ \\mathbf{v}_4 \\sin(\\alpha_2) \\end{bmatrix} $$\n",
    "\n",
    "in which $ a = \\mathbf{v}_2 + \\mathbf{v}_3 \\cos(\\gamma) $ and $ b = \\mathbf{v}_3 \\sin(\\gamma) $. Since $v_2 = v_4$, Eq. (12) can be rewritten as the following equation by eliminating $ \\alpha_2 $\n",
    "\n",
    "$$ L \\sin(\\alpha_1) + M \\cos(\\alpha_1) - N = 0 $$\n",
    "\n",
    "which contains only one variable $ \\alpha_1 $ and where\n",
    "\n",
    "$\n",
    "\\begin{aligned}\n",
    "L &= 2 \\mathbf{v}_1 b \\\\\n",
    "M &= 2 \\mathbf{v}_1 a \\\\\n",
    "N &= \\mathbf{v}_1^2 + \\mathbf{v}_3^2 + 2 \\mathbf{v}_2 \\mathbf{v}_3 \\cos(\\gamma)\n",
    "\\end{aligned}\n",
    "$\n",
    "\n",
    "By applying the tangent half-angle formula to $sinα_1$ and $cosα_1$, one can obtain\n",
    "\n",
    "$((M + N)^2 - 2LT - (M - N) = 0)$\n",
    "\n",
    "where $T = tan (α_1/2)$\n",
    "The dimensional parameters of the proposed 3-RRRSR KRHPR are shown in Table 1, in where $R_b$ and $R_p$ are the radii of the circumscribed circles of the base and platform.\n",
    "\n",
    "| $R_b$  | $R_p$  | $I_{i_1} = I_{i_4}$ | $I_{i_2} = I_{i_3}$ | α       |\n",
    "|--------|--------|-----------------|-----------------|---------|\n",
    "| $250 mm$ | $125 mm$ | $50 mm$     | $300 mm$       | $250 deg$ |\n",
    "\n",
    "\n",
    "\n",
    "\n",
    "\n",
    "\n",
    "\n",
    "\n"
   ]
  },
  {
   "cell_type": "code",
   "execution_count": 12,
   "metadata": {},
   "outputs": [
    {
     "name": "stdout",
     "output_type": "stream",
     "text": [
      "Collecting sphinx-tippy"
     ]
    },
    {
     "name": "stderr",
     "output_type": "stream",
     "text": [
      "WARNING: You are using pip version 21.1.1; however, version 23.3.2 is available.\n",
      "You should consider upgrading via the 'C:\\Users\\lenih\\AppData\\Local\\Microsoft\\WindowsApps\\PythonSoftwareFoundation.Python.3.8_qbz5n2kfra8p0\\python.exe -m pip install --upgrade pip' command.\n"
     ]
    },
    {
     "name": "stdout",
     "output_type": "stream",
     "text": [
      "\n",
      "  Downloading sphinx_tippy-0.4.1-py3-none-any.whl (9.6 kB)\n",
      "Collecting requests\n",
      "  Using cached requests-2.31.0-py3-none-any.whl (62 kB)\n",
      "Collecting sphinx>4\n",
      "  Downloading sphinx-7.1.2-py3-none-any.whl (3.2 MB)\n",
      "Collecting jinja2\n",
      "  Using cached Jinja2-3.1.2-py3-none-any.whl (133 kB)\n",
      "Collecting beautifulsoup4\n",
      "  Using cached beautifulsoup4-4.12.2-py3-none-any.whl (142 kB)\n",
      "Collecting sphinxcontrib-htmlhelp>=2.0.0\n",
      "  Downloading sphinxcontrib_htmlhelp-2.0.1-py3-none-any.whl (99 kB)\n",
      "Collecting imagesize>=1.3\n",
      "  Downloading imagesize-1.4.1-py2.py3-none-any.whl (8.8 kB)\n",
      "Requirement already satisfied: Pygments>=2.13 in c:\\users\\lenih\\appdata\\local\\packages\\pythonsoftwarefoundation.python.3.8_qbz5n2kfra8p0\\localcache\\local-packages\\python38\\site-packages (from sphinx>4->sphinx-tippy) (2.17.2)\n",
      "Collecting sphinxcontrib-jsmath\n",
      "  Downloading sphinxcontrib_jsmath-1.0.1-py2.py3-none-any.whl (5.1 kB)\n",
      "Collecting sphinxcontrib-qthelp\n",
      "  Downloading sphinxcontrib_qthelp-1.0.3-py2.py3-none-any.whl (90 kB)\n",
      "Collecting snowballstemmer>=2.0\n",
      "  Downloading snowballstemmer-2.2.0-py2.py3-none-any.whl (93 kB)\n",
      "Collecting sphinxcontrib-devhelp\n",
      "  Downloading sphinxcontrib_devhelp-1.0.2-py2.py3-none-any.whl (84 kB)\n",
      "Requirement already satisfied: packaging>=21.0 in c:\\users\\lenih\\appdata\\local\\packages\\pythonsoftwarefoundation.python.3.8_qbz5n2kfra8p0\\localcache\\local-packages\\python38\\site-packages (from sphinx>4->sphinx-tippy) (23.2)\n",
      "Collecting babel>=2.9\n",
      "  Using cached Babel-2.14.0-py3-none-any.whl (11.0 MB)\n",
      "Requirement already satisfied: colorama>=0.4.5 in c:\\users\\lenih\\appdata\\local\\packages\\pythonsoftwarefoundation.python.3.8_qbz5n2kfra8p0\\localcache\\local-packages\\python38\\site-packages (from sphinx>4->sphinx-tippy) (0.4.6)\n",
      "Collecting sphinxcontrib-serializinghtml>=1.1.5\n",
      "  Downloading sphinxcontrib_serializinghtml-1.1.5-py2.py3-none-any.whl (94 kB)\n",
      "Collecting docutils<0.21,>=0.18.1\n",
      "  Downloading docutils-0.20.1-py3-none-any.whl (572 kB)\n",
      "Collecting sphinxcontrib-applehelp\n",
      "  Downloading sphinxcontrib_applehelp-1.0.4-py3-none-any.whl (120 kB)\n",
      "Requirement already satisfied: importlib-metadata>=4.8 in c:\\users\\lenih\\appdata\\local\\packages\\pythonsoftwarefoundation.python.3.8_qbz5n2kfra8p0\\localcache\\local-packages\\python38\\site-packages (from sphinx>4->sphinx-tippy) (7.0.1)\n",
      "Collecting alabaster<0.8,>=0.7\n",
      "  Downloading alabaster-0.7.13-py3-none-any.whl (13 kB)\n",
      "Collecting pytz>=2015.7\n",
      "  Using cached pytz-2023.3.post1-py2.py3-none-any.whl (502 kB)\n",
      "Requirement already satisfied: zipp>=0.5 in c:\\users\\lenih\\appdata\\local\\packages\\pythonsoftwarefoundation.python.3.8_qbz5n2kfra8p0\\localcache\\local-packages\\python38\\site-packages (from importlib-metadata>=4.8->sphinx>4->sphinx-tippy) (3.17.0)\n",
      "Collecting MarkupSafe>=2.0\n",
      "  Using cached MarkupSafe-2.1.3-cp38-cp38-win_amd64.whl (17 kB)\n",
      "Collecting charset-normalizer<4,>=2\n",
      "  Using cached charset_normalizer-3.3.2-cp38-cp38-win_amd64.whl (99 kB)\n",
      "Collecting idna<4,>=2.5\n",
      "  Using cached idna-3.6-py3-none-any.whl (61 kB)\n",
      "Collecting urllib3<3,>=1.21.1\n",
      "  Using cached urllib3-2.1.0-py3-none-any.whl (104 kB)\n",
      "Collecting certifi>=2017.4.17\n",
      "  Using cached certifi-2023.11.17-py3-none-any.whl (162 kB)\n",
      "Collecting soupsieve>1.2\n",
      "  Using cached soupsieve-2.5-py3-none-any.whl (36 kB)\n",
      "Installing collected packages: urllib3, pytz, MarkupSafe, idna, charset-normalizer, certifi, sphinxcontrib-serializinghtml, sphinxcontrib-qthelp, sphinxcontrib-jsmath, sphinxcontrib-htmlhelp, sphinxcontrib-devhelp, sphinxcontrib-applehelp, soupsieve, snowballstemmer, requests, jinja2, imagesize, docutils, babel, alabaster, sphinx, beautifulsoup4, sphinx-tippy\n",
      "Successfully installed MarkupSafe-2.1.3 alabaster-0.7.13 babel-2.14.0 beautifulsoup4-4.12.2 certifi-2023.11.17 charset-normalizer-3.3.2 docutils-0.20.1 idna-3.6 imagesize-1.4.1 jinja2-3.1.2 pytz-2023.3.post1 requests-2.31.0 snowballstemmer-2.2.0 soupsieve-2.5 sphinx-7.1.2 sphinx-tippy-0.4.1 sphinxcontrib-applehelp-1.0.4 sphinxcontrib-devhelp-1.0.2 sphinxcontrib-htmlhelp-2.0.1 sphinxcontrib-jsmath-1.0.1 sphinxcontrib-qthelp-1.0.3 sphinxcontrib-serializinghtml-1.1.5 urllib3-2.1.0\n"
     ]
    }
   ],
   "source": [
    "!pip install sphinx-tippy"
   ]
  },
  {
   "cell_type": "code",
   "execution_count": 18,
   "metadata": {},
   "outputs": [
    {
     "data": {
      "text/html": [
       "\n",
       "    <div class=\"tooltip-container\">\n",
       "        <span class=\"tooltip\" onmouseover=\"showTooltip()\">Hover over me</span>\n",
       "        <div class=\"tooltip-text\" id=\"tooltip\">This is a tooltip</div>\n",
       "    </div>\n",
       "    \n",
       "    <script>\n",
       "        function showTooltip() {\n",
       "            var tooltip = document.getElementById(\"tooltip\");\n",
       "            tooltip.style.visibility = \"visible\";\n",
       "        }\n",
       "    </script>\n"
      ],
      "text/plain": [
       "<IPython.core.display.HTML object>"
      ]
     },
     "metadata": {},
     "output_type": "display_data"
    }
   ],
   "source": [
    "from IPython.display import display, HTML\n",
    "\n",
    "# Add a tooltip to an HTML element\n",
    "tooltip_html = \"\"\"\n",
    "    <div class=\"tooltip-container\">\n",
    "        <span class=\"tooltip\" onmouseover=\"showTooltip()\">Hover over me</span>\n",
    "        <div class=\"tooltip-text\" id=\"tooltip\">This is a tooltip</div>\n",
    "    </div>\n",
    "    \n",
    "    <script>\n",
    "        function showTooltip() {\n",
    "            var tooltip = document.getElementById(\"tooltip\");\n",
    "            tooltip.style.visibility = \"visible\";\n",
    "        }\n",
    "    </script>\n",
    "\"\"\"\n",
    "\n",
    "display(HTML(tooltip_html))\n"
   ]
  }
 ],
 "metadata": {
  "kernelspec": {
   "display_name": "Python 3",
   "language": "python",
   "name": "python3"
  },
  "language_info": {
   "codemirror_mode": {
    "name": "ipython",
    "version": 3
   },
   "file_extension": ".py",
   "mimetype": "text/x-python",
   "name": "python",
   "nbconvert_exporter": "python",
   "pygments_lexer": "ipython3",
   "version": "3.8.10"
  }
 },
 "nbformat": 4,
 "nbformat_minor": 2
}
