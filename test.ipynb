{
 "cells": [
  {
   "cell_type": "markdown",
   "metadata": {},
   "source": [
    "<html>\n",
    "  <head>\n",
    "    <meta charset=\"utf-8\">\n",
    "    <link rel=\"stylesheet\"\n",
    "          href=\"https://fonts.googleapis.com/css?family=Tangerine\">\n",
    "    <style>\n",
    "      body {\n",
    "        font-family: 'Tangerine', serif;\n",
    "        font-size: 48px;\n",
    "      }\n",
    "    </style>\n",
    "  </head>\n",
    "  <body>\n",
    "    <div>Making the Web Beautiful!</div>\n",
    "  </body>\n",
    "</html>"
   ]
  }
 ],
 "metadata": {
  "language_info": {
   "name": "python"
  }
 },
 "nbformat": 4,
 "nbformat_minor": 2
}
