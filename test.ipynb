{
 "cells": [
  {
   "cell_type": "code",
   "execution_count": 3,
   "metadata": {},
   "outputs": [
    {
     "data": {
      "text/html": [
       "<style>\n",
       "    @page { size: A4; margin: 1cm }\n",
       "    @media print {\n",
       "        body, .output_wrapper, .output {\n",
       "            width: 21cm;\n",
       "            height: 29.7cm;\n",
       "        }\n",
       "    }\n",
       "</style>\n"
      ],
      "text/plain": [
       "<IPython.core.display.HTML object>"
      ]
     },
     "metadata": {},
     "output_type": "display_data"
    }
   ],
   "source": [
    "%%html\n",
    "<style>\n",
    "    @page { size: A4; margin: 1cm }\n",
    "    @media print {\n",
    "        body, .output_wrapper, .output {\n",
    "            width: 21cm;\n",
    "            height: 29.7cm;\n",
    "        }\n",
    "    }\n",
    "</style>\n"
   ]
  },
  {
   "cell_type": "markdown",
   "metadata": {},
   "source": [
    "# Introduction\n",
    "---\n",
    "\n",
    "Applications of six-degree-of-freedom (6-dof) spatial parallel mechanisms (SPMs) can be found in many areas such as robotics, motion simulators and high-precision positioning devices due to their properties of high payload capability and positioning accuracy. However, the performances of such mechanisms are limited by singularities within their workspace, especially parallel (type II) singularities.\n",
    "\n",
    "When the mobility of at least one of the legs is greater than the required DoF, the mechanism is said to be kinematically redundant. This can be used for singularity avoidance and workspace enlargement. If extra legs are added to the mechanism or if some of the passive joints are actuated, the mechanism is said to be redundantly actuated. Such type of redundancy may help to avoid singularities and increase stiffness. However, redundantly actuated mechanisms may also generate internal forces, which lead to control and calibration complexities. Measurement redundancy can be achieved by using more sensors than the number of actuated joints and is introduced to improve the accuracy of the mechanism. However, it does not help to avoid singularities. It can therefore be argued that kinematic redundancy is a very attractive way to achieve singularity avoidance.\n",
    "\n",
    "# Robot Architecture\n",
    "---\n",
    "\n",
    "The mechanism is driven by nine motors: three per leg. In each leg, one of the three motors is attached to the fixed base while the other two form a planar parallel mechanism mounted on the output link of the first actuator. Using this arrangement, it is shown that type II singularities can be completely avoided.\n",
    "\n",
    "# Kinematic Modeling\n",
    "---\n",
    "\n",
    "A base frame and a moving frame are respectively attached to the centroid of the base and moving platforms, which are noted as $O_{xyz}$ and $O′_{x′y′z′}$ (see Fig. 2)\n",
    "\n",
    "| ![Image 1](Docs/Media/KinematicModel.png) | ![Image 2](Docs/Media/GeometricDescription.png) |\n",
    "|:---:|:---:|\n",
    "| *Figure 1: Architecture of the proposed hybrid parallel robot* | *Figure 2: Geometric description of one leg* |\n",
    "\n",
    "Vector p represents the position of $O′$ with respect to $O$ and matrix $Q$ is the orientation of the moving platform with respect to the base. Vector $r_i$ denotes the position of $S_i$. Vector $n$ is the unit vector along the axis of the revolute joint attached to the platform and $d_i$ is the position vector of the centre of the revolute joint that is attached to the platform, which is expressed in the moving frame. Except for $d_i$, all vectors are expressed in the base frame. The constraint equations of the robot, which are used to derive the kinematics, can be written as follows. Firstly, the constraint on the length of the fourth link is written as:"
   ]
  }
 ],
 "metadata": {
  "kernelspec": {
   "display_name": "Python 3",
   "language": "python",
   "name": "python3"
  },
  "language_info": {
   "codemirror_mode": {
    "name": "ipython",
    "version": 3
   },
   "file_extension": ".py",
   "mimetype": "text/x-python",
   "name": "python",
   "nbconvert_exporter": "python",
   "pygments_lexer": "ipython3",
   "version": "3.8.10"
  }
 },
 "nbformat": 4,
 "nbformat_minor": 2
}
